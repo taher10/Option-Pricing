{
 "cells": [
  {
   "cell_type": "code",
   "execution_count": 1,
   "id": "bd343269",
   "metadata": {},
   "outputs": [
    {
     "name": "stdout",
     "output_type": "stream",
     "text": [
      "The price of the European call option is: -6.509904011289109\n"
     ]
    }
   ],
   "source": [
    "import numpy as np\n",
    "from scipy.integrate import quad\n",
    "from scipy.stats import norm\n",
    "from numpy import exp, sqrt, log, pi\n",
    "\n",
    "def heston_call_price(S, K, T, r, kappa, theta, sigma, rho, v0):\n",
    "    \"\"\"\n",
    "    Price a European call option using the Heston model.\n",
    "\n",
    "    Parameters:\n",
    "    S (float): Initial stock price\n",
    "    K (float): Strike price\n",
    "    T (float): Time to maturity\n",
    "    r (float): Risk-free rate\n",
    "    kappa (float): Rate of mean reversion\n",
    "    theta (float): Long-run average price of variance\n",
    "    sigma (float): Volatility of volatility\n",
    "    rho (float): Correlation between stock and variance\n",
    "    v0 (float): Initial variance\n",
    "\n",
    "    Returns:\n",
    "    float: Price of the call option\n",
    "    \"\"\"\n",
    "    i = complex(0, 1)\n",
    "\n",
    "    def characteristic_function(phi):\n",
    "        d = sqrt((rho * sigma * i * phi - kappa)**2 + (sigma**2) * (i * phi + phi**2))\n",
    "        g = (kappa - rho * sigma * i * phi - d) / (kappa - rho * sigma * i * phi + d)\n",
    "        C = r * i * phi * T + (kappa * theta / (sigma**2)) * (\n",
    "            (kappa - rho * sigma * i * phi - d) * T - 2 * log((1 - g * exp(-d * T)) / (1 - g))\n",
    "        )\n",
    "        D = ((kappa - rho * sigma * i * phi - d) / sigma**2) * ((1 - exp(-d * T)) / (1 - g * exp(-d * T)))\n",
    "        return exp(C + D * v0 + i * phi * log(S))\n",
    "\n",
    "    def integrand(phi):\n",
    "        integrand_value = (exp(-i * phi * log(K)) * characteristic_function(phi) / (i * phi)).real\n",
    "        return integrand_value\n",
    "\n",
    "    integral = quad(integrand, 0, np.inf)[0]\n",
    "    call_price = S * 0.5 + (exp(-r * T) / pi) * integral - K * exp(-r * T) * 0.5\n",
    "    return call_price\n",
    "\n",
    "# Example parameters\n",
    "S = 22475       # Initial stock price\n",
    "K = 22500       # Strike price\n",
    "T = 3/365         # Time to maturity\n",
    "r = 0.065     # Risk-free rate\n",
    "kappa = 0.05   # Rate of mean reversion\n",
    "theta = 0.00  # Long-run average price of variance\n",
    "sigma = 0.16  # Volatility of volatility\n",
    "rho = -0.6   # Correlation between stock and variance\n",
    "v0 = 0.01    # Initial variance\n",
    "\n",
    "# Calculate the call price\n",
    "price = heston_call_price(S, K, T, r, kappa, theta, sigma, rho, v0)\n",
    "print(\"The price of the European call option is:\", price)"
   ]
  },
  {
   "cell_type": "code",
   "execution_count": null,
   "id": "1aa55506",
   "metadata": {},
   "outputs": [],
   "source": []
  }
 ],
 "metadata": {
  "kernelspec": {
   "display_name": "Python 3 (ipykernel)",
   "language": "python",
   "name": "python3"
  },
  "language_info": {
   "codemirror_mode": {
    "name": "ipython",
    "version": 3
   },
   "file_extension": ".py",
   "mimetype": "text/x-python",
   "name": "python",
   "nbconvert_exporter": "python",
   "pygments_lexer": "ipython3",
   "version": "3.9.18"
  }
 },
 "nbformat": 4,
 "nbformat_minor": 5
}
